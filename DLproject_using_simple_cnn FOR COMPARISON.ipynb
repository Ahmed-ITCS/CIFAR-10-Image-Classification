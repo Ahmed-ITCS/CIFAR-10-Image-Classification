{
  "nbformat": 4,
  "nbformat_minor": 0,
  "metadata": {
    "colab": {
      "provenance": [],
      "gpuType": "T4"
    },
    "kernelspec": {
      "name": "python3",
      "display_name": "Python 3"
    },
    "language_info": {
      "name": "python"
    },
    "accelerator": "GPU"
  },
  "cells": [
    {
      "cell_type": "code",
      "execution_count": 1,
      "metadata": {
        "colab": {
          "base_uri": "https://localhost:8080/"
        },
        "id": "ftr_BzSVYrcn",
        "outputId": "3ca5dc9a-200f-40e2-d0b1-11143928586a"
      },
      "outputs": [
        {
          "output_type": "stream",
          "name": "stdout",
          "text": [
            "Downloading data from https://www.cs.toronto.edu/~kriz/cifar-10-python.tar.gz\n",
            "170498071/170498071 [==============================] - 4s 0us/step\n",
            "Epoch 1/10\n",
            "782/782 [==============================] - 10s 6ms/step - loss: 1.5865 - accuracy: 0.4198 - val_loss: 1.3172 - val_accuracy: 0.5261\n",
            "Epoch 2/10\n",
            "782/782 [==============================] - 4s 6ms/step - loss: 1.2193 - accuracy: 0.5659 - val_loss: 1.1684 - val_accuracy: 0.5897\n",
            "Epoch 3/10\n",
            "782/782 [==============================] - 4s 5ms/step - loss: 1.0782 - accuracy: 0.6207 - val_loss: 1.0650 - val_accuracy: 0.6234\n",
            "Epoch 4/10\n",
            "782/782 [==============================] - 4s 5ms/step - loss: 0.9824 - accuracy: 0.6552 - val_loss: 0.9783 - val_accuracy: 0.6573\n",
            "Epoch 5/10\n",
            "782/782 [==============================] - 4s 6ms/step - loss: 0.9091 - accuracy: 0.6798 - val_loss: 0.9326 - val_accuracy: 0.6780\n",
            "Epoch 6/10\n",
            "782/782 [==============================] - 4s 5ms/step - loss: 0.8581 - accuracy: 0.6998 - val_loss: 0.9276 - val_accuracy: 0.6749\n",
            "Epoch 7/10\n",
            "782/782 [==============================] - 4s 5ms/step - loss: 0.8072 - accuracy: 0.7164 - val_loss: 0.9133 - val_accuracy: 0.6812\n",
            "Epoch 8/10\n",
            "782/782 [==============================] - 4s 5ms/step - loss: 0.7663 - accuracy: 0.7332 - val_loss: 0.8956 - val_accuracy: 0.6866\n",
            "Epoch 9/10\n",
            "782/782 [==============================] - 4s 5ms/step - loss: 0.7245 - accuracy: 0.7466 - val_loss: 0.8421 - val_accuracy: 0.7132\n",
            "Epoch 10/10\n",
            "782/782 [==============================] - 4s 5ms/step - loss: 0.6905 - accuracy: 0.7579 - val_loss: 0.8685 - val_accuracy: 0.7065\n",
            "313/313 [==============================] - 1s 2ms/step - loss: 0.8685 - accuracy: 0.7065\n",
            "Test Accuracy: 0.7064999938011169\n"
          ]
        }
      ],
      "source": [
        "# Import necessary libraries\n",
        "import numpy as np\n",
        "from keras.datasets import cifar10\n",
        "from keras.utils import to_categorical\n",
        "from keras.models import Sequential\n",
        "from keras.layers import Conv2D, MaxPooling2D, Flatten, Dense\n",
        "\n",
        "# Load and preprocess the CIFAR-10 dataset\n",
        "(x_train, y_train), (x_test, y_test) = cifar10.load_data()\n",
        "x_train = x_train.astype('float32') / 255.0\n",
        "x_test = x_test.astype('float32') / 255.0\n",
        "y_train = to_categorical(y_train, 10)\n",
        "y_test = to_categorical(y_test, 10)\n",
        "\n",
        "# Build the CNN model\n",
        "model = Sequential()\n",
        "\n",
        "# Convolutional layers\n",
        "model.add(Conv2D(32, (3, 3), activation='relu', input_shape=(32, 32, 3)))\n",
        "model.add(MaxPooling2D((2, 2)))\n",
        "model.add(Conv2D(64, (3, 3), activation='relu'))\n",
        "model.add(MaxPooling2D((2, 2)))\n",
        "model.add(Conv2D(64, (3, 3), activation='relu'))\n",
        "\n",
        "# Fully connected layers\n",
        "model.add(Flatten())\n",
        "model.add(Dense(64, activation='relu'))\n",
        "model.add(Dense(10, activation='softmax'))\n",
        "\n",
        "# Compile the model\n",
        "model.compile(optimizer='adam',\n",
        "              loss='categorical_crossentropy',\n",
        "              metrics=['accuracy'])\n",
        "\n",
        "# Train the model\n",
        "model.fit(x_train, y_train, epochs=10, batch_size=64, validation_data=(x_test, y_test))\n",
        "\n",
        "# Evaluate the model\n",
        "test_loss, test_acc = model.evaluate(x_test, y_test)\n",
        "print(f'Test Accuracy: {test_acc}')\n"
      ]
    }
  ]
}