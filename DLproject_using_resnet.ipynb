{
  "cells": [
    {
      "cell_type": "code",
      "execution_count": 4,
      "metadata": {
        "colab": {
          "base_uri": "https://localhost:8080/"
        },
        "id": "lD8ktn2MIghA",
        "outputId": "248c5a6a-6f98-4c96-b8be-5bd71728b272"
      },
      "outputs": [
        {
          "output_type": "stream",
          "name": "stderr",
          "text": [
            "WARNING:absl:`lr` is deprecated in Keras optimizer, please use `learning_rate` or use the legacy optimizer, e.g.,tf.keras.optimizers.legacy.Adam.\n"
          ]
        },
        {
          "output_type": "stream",
          "name": "stdout",
          "text": [
            "Epoch 1/10\n",
            "676/676 [==============================] - 25s 23ms/step - loss: 1.3457 - accuracy: 0.5158 - val_loss: 1.4676 - val_accuracy: 0.5048\n",
            "Epoch 2/10\n",
            "676/676 [==============================] - 14s 21ms/step - loss: 0.8983 - accuracy: 0.6819 - val_loss: 1.0948 - val_accuracy: 0.6185\n",
            "Epoch 3/10\n",
            "676/676 [==============================] - 14s 21ms/step - loss: 0.6835 - accuracy: 0.7601 - val_loss: 1.1625 - val_accuracy: 0.6331\n",
            "Epoch 4/10\n",
            "676/676 [==============================] - 14s 21ms/step - loss: 0.5360 - accuracy: 0.8125 - val_loss: 1.1032 - val_accuracy: 0.6623\n",
            "Epoch 5/10\n",
            "676/676 [==============================] - 14s 20ms/step - loss: 0.4094 - accuracy: 0.8553 - val_loss: 0.9107 - val_accuracy: 0.7112\n",
            "Epoch 6/10\n",
            "676/676 [==============================] - 14s 21ms/step - loss: 0.3064 - accuracy: 0.8941 - val_loss: 0.9674 - val_accuracy: 0.7093\n",
            "Epoch 7/10\n",
            "676/676 [==============================] - 14s 21ms/step - loss: 0.2108 - accuracy: 0.9258 - val_loss: 1.0054 - val_accuracy: 0.7272\n",
            "Epoch 8/10\n",
            "676/676 [==============================] - 14s 21ms/step - loss: 0.1578 - accuracy: 0.9461 - val_loss: 1.0034 - val_accuracy: 0.7417\n",
            "Epoch 9/10\n",
            "676/676 [==============================] - 14s 21ms/step - loss: 0.1201 - accuracy: 0.9572 - val_loss: 1.2055 - val_accuracy: 0.7224\n",
            "Epoch 10/10\n",
            "676/676 [==============================] - 14s 20ms/step - loss: 0.0992 - accuracy: 0.9649 - val_loss: 1.2125 - val_accuracy: 0.7301\n",
            "Test Loss: 1.2125335931777954\n",
            "Test Accuracy: 0.7300999760627747\n"
          ]
        }
      ],
      "source": [
        "from keras.layers import Input, Conv2D, BatchNormalization, Activation, Add, GlobalAveragePooling2D, Dense\n",
        "from keras.models import Model\n",
        "from keras.optimizers import Adam\n",
        "from keras.datasets import cifar10\n",
        "from keras.utils import to_categorical\n",
        "\n",
        "# Load CIFAR-10 data\n",
        "(x_train, y_train), (x_test, y_test) = cifar10.load_data()\n",
        "num_classes = 10\n",
        "\n",
        "# Preprocess the data\n",
        "x_train = x_train.astype('float32') / 255.0\n",
        "x_test = x_test.astype('float32') / 255.0\n",
        "y_train = to_categorical(y_train, num_classes)\n",
        "y_test = to_categorical(y_test, num_classes)\n",
        "\n",
        "# Define Residual Block\n",
        "def residual_block(x, filters, kernel_size=3, stride=1):\n",
        "    shortcut = x\n",
        "\n",
        "    # First convolution\n",
        "    x = Conv2D(filters, kernel_size=kernel_size, strides=stride, padding='same')(x)\n",
        "    x = BatchNormalization()(x)\n",
        "    x = Activation('relu')(x)\n",
        "\n",
        "    # Second convolution\n",
        "    x = Conv2D(filters, kernel_size=kernel_size, strides=1, padding='same')(x)\n",
        "    x = BatchNormalization()(x)\n",
        "\n",
        "    # Adjust the shortcut connection shape if needed\n",
        "    if stride > 1:\n",
        "        shortcut = Conv2D(filters, kernel_size=1, strides=stride, padding='same')(shortcut)\n",
        "\n",
        "    # Add shortcut connection\n",
        "    x = Add()([x, shortcut])\n",
        "    x = Activation('relu')(x)\n",
        "\n",
        "    return x\n",
        "\n",
        "# Define ResNet Model\n",
        "def build_resnet(input_shape, num_classes):\n",
        "    input_tensor = Input(shape=input_shape)\n",
        "\n",
        "    # Initial Convolution\n",
        "    x = Conv2D(64, kernel_size=7, strides=2, padding='same')(input_tensor)\n",
        "    x = BatchNormalization()(x)\n",
        "    x = Activation('relu')(x)\n",
        "\n",
        "    # Residual Blocks\n",
        "    x = residual_block(x, filters=64)\n",
        "    x = residual_block(x, filters=64)\n",
        "    x = residual_block(x, filters=128, stride=2)\n",
        "    x = residual_block(x, filters=128)\n",
        "    x = residual_block(x, filters=256, stride=2)\n",
        "    x = residual_block(x, filters=256)\n",
        "\n",
        "    # Global Average Pooling\n",
        "    x = GlobalAveragePooling2D()(x)\n",
        "\n",
        "    # Output layer\n",
        "    output_tensor = Dense(num_classes, activation='softmax')(x)\n",
        "\n",
        "    model = Model(inputs=input_tensor, outputs=output_tensor)\n",
        "    return model\n",
        "\n",
        "# Build and compile the model\n",
        "input_shape = x_train.shape[1:]\n",
        "model = build_resnet(input_shape, num_classes)\n",
        "model.compile(optimizer=Adam(lr=0.001), loss='categorical_crossentropy', metrics=['accuracy'])\n",
        "\n",
        "# Train the model\n",
        "model.fit(x_train, y_train, epochs=10, batch_size=74, validation_data=(x_test, y_test))\n",
        "\n",
        "# Evaluate the model\n",
        "score = model.evaluate(x_test, y_test, verbose=0)\n",
        "print(\"Test Loss:\", score[0])\n",
        "print(\"Test Accuracy:\", score[1])\n"
      ]
    }
  ],
  "metadata": {
    "colab": {
      "provenance": [],
      "gpuType": "T4"
    },
    "kernelspec": {
      "display_name": "Python 3",
      "name": "python3"
    },
    "language_info": {
      "name": "python"
    },
    "accelerator": "GPU"
  },
  "nbformat": 4,
  "nbformat_minor": 0
}